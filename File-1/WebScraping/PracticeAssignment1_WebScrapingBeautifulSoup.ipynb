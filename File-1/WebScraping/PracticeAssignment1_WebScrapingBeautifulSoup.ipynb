{
 "cells": [
  {
   "cell_type": "markdown",
   "id": "73fffb82",
   "metadata": {},
   "source": [
    "# Assignment 1- Web Scraping with BeautifulSoup"
   ]
  },
  {
   "cell_type": "code",
   "execution_count": 72,
   "id": "193c16f6",
   "metadata": {},
   "outputs": [
    {
     "name": "stdout",
     "output_type": "stream",
     "text": [
      "Requirement already satisfied: bs4 in ./anaconda3/lib/python3.11/site-packages (0.0.2)\n",
      "Requirement already satisfied: beautifulsoup4 in ./anaconda3/lib/python3.11/site-packages (from bs4) (4.12.2)\n",
      "Requirement already satisfied: soupsieve>1.2 in ./anaconda3/lib/python3.11/site-packages (from beautifulsoup4->bs4) (2.4)\n",
      "Requirement already satisfied: requests in ./anaconda3/lib/python3.11/site-packages (2.29.0)\n",
      "Requirement already satisfied: charset-normalizer<4,>=2 in ./anaconda3/lib/python3.11/site-packages (from requests) (2.0.4)\n",
      "Requirement already satisfied: idna<4,>=2.5 in ./anaconda3/lib/python3.11/site-packages (from requests) (3.4)\n",
      "Requirement already satisfied: urllib3<1.27,>=1.21.1 in ./anaconda3/lib/python3.11/site-packages (from requests) (1.26.16)\n",
      "Requirement already satisfied: certifi>=2017.4.17 in ./anaconda3/lib/python3.11/site-packages (from requests) (2023.5.7)\n"
     ]
    }
   ],
   "source": [
    "!pip install bs4\n",
    "!pip install requests"
   ]
  },
  {
   "cell_type": "code",
   "execution_count": 73,
   "id": "02876c22",
   "metadata": {},
   "outputs": [],
   "source": [
    "from bs4 import BeautifulSoup\n",
    "import requests"
   ]
  },
  {
   "cell_type": "markdown",
   "id": "3867a35e",
   "metadata": {},
   "source": [
    "In all the following questions, you have to use BeautifulSoup to scrape different websites and collect data as per the requirement of the question. \n",
    "\n",
    "Every answer to the question should be in form of a python function which should take URL as the parameter. Use Jupyter Notebooks to program, upload it on your GitHub and send the link of the Jupyter notebook to your SME.\n",
    "\n",
    "Question 1) Write a python program to display all the header tags from wikipedia.org.\n",
    "\n",
    "Question 2) Write a python program to display IMDB’s Top rated 100 movies’ data (i.e. name, rating, year of \n",
    "            release) and make data frame.\n",
    "\n",
    "Question 3) Write a python program to scrape mentioned details from dineout.co.in : i) Restaurant name ii) Cuisine             iii) Location iv) Ratings v) Image URL.\n",
    "\n",
    "Question 4) Write s python program to display list of respected former finance minister of India(i.e. Name , Term \n",
    "            of office) from https://presidentofindia.nic.in/former-presidents.htm and make data frame."
   ]
  },
  {
   "cell_type": "markdown",
   "id": "5335fa2b",
   "metadata": {},
   "source": [
    "# Solution 1"
   ]
  },
  {
   "cell_type": "code",
   "execution_count": 52,
   "id": "1b723212",
   "metadata": {},
   "outputs": [
    {
     "name": "stdout",
     "output_type": "stream",
     "text": [
      "\n",
      "\n",
      "Wikipedia\n",
      "\n",
      "The Free Encyclopedia\n",
      "\n",
      "\n",
      "\n",
      "\n",
      "\n",
      "1,000,000+\n",
      "\n",
      "\n",
      "articles\n",
      "\n",
      "\n",
      "\n",
      "\n",
      "\n",
      "\n",
      "\n",
      "\n",
      "100,000+\n",
      "\n",
      "\n",
      "articles\n",
      "\n",
      "\n",
      "\n",
      "\n",
      "\n",
      "\n",
      "\n",
      "\n",
      "10,000+\n",
      "\n",
      "\n",
      "articles\n",
      "\n",
      "\n",
      "\n",
      "\n",
      "\n",
      "\n",
      "\n",
      "\n",
      "1,000+\n",
      "\n",
      "\n",
      "articles\n",
      "\n",
      "\n",
      "\n",
      "\n",
      "\n",
      "\n",
      "\n",
      "\n",
      "100+\n",
      "\n",
      "\n",
      "articles\n",
      "\n",
      "\n",
      "\n",
      "\n"
     ]
    }
   ],
   "source": [
    "def displayHeaderTags(url):\n",
    "    Page= requests.get (url)\n",
    "    soup=BeautifulSoup(Page.content)\n",
    "    headertags=soup.find_all(['h1','h2','h3','h4','h5','h6'])\n",
    "    for i in headertags:\n",
    "        print(i.text)\n",
    "    \n",
    "            \n",
    "\n",
    "        \n",
    "url=\"https://www.wikipedia.org\"\n",
    "displayHeaderTags(url)"
   ]
  },
  {
   "cell_type": "markdown",
   "id": "319985e5",
   "metadata": {},
   "source": [
    "# Solution2"
   ]
  },
  {
   "cell_type": "code",
   "execution_count": 99,
   "id": "88d8cb9e",
   "metadata": {},
   "outputs": [
    {
     "name": "stdout",
     "output_type": "stream",
     "text": [
      "Page is not allowed to access: 403\n"
     ]
    }
   ],
   "source": [
    "def displayTopMovies(url):\n",
    "    Page=requests.get(url)\n",
    "    \n",
    "    if Page.status_code==200:\n",
    "        soup=BeautifulSoup(Page.content)\n",
    "        name=[]\n",
    "        rating=[]\n",
    "        yearOfRelease=[]\n",
    "        for i in soup.find_all('div',class_=\"ipc-title ipc-title--base ipc-title--title ipc-title-link-no-icon ipc-title--on-textPrimary sc-be6f1408-9 srahg cli-title\"):\n",
    "            name.append(i.text)\n",
    "        #print(name)\n",
    "        for i in soup.find_all('span',class_=\"ipc-rating-star ipc-rating-star--base ipc-rating-star--imdb ratingGroup--imdb-rating\"):\n",
    "            rating.append(i.text) \n",
    "        #print(rating)\n",
    "        for i in soup.find_all('span',class_=\"sc-be6f1408-8 fcCUPU cli-title-metadata-item\"):\n",
    "            yearOfRelease.append(i.text)\n",
    "        #print(yearOfRelease)\n",
    "        df=pd.DataFrame({'Movie name':name,'Rating':rating,'Year_Of_Release':yearOfRelease})\n",
    "        print(df) \n",
    "        print(df.shape)\n",
    "        print(df.head(100))\n",
    "    \n",
    "    else:\n",
    "        print(\"Page is not allowed to access:\",Page.status_code)\n",
    "    \n",
    "\n",
    "url=\"https://www.imdb.com/chart/top/?ref_=nv_mv_250\"\n",
    "displayTopMovies(Url)"
   ]
  },
  {
   "cell_type": "markdown",
   "id": "e87781ca",
   "metadata": {},
   "source": [
    "# Solution 3"
   ]
  },
  {
   "cell_type": "code",
   "execution_count": 10,
   "id": "017797bc",
   "metadata": {},
   "outputs": [],
   "source": [
    "from bs4 import BeautifulSoup\n",
    "import requests"
   ]
  },
  {
   "cell_type": "code",
   "execution_count": 48,
   "id": "5b52f7ac",
   "metadata": {},
   "outputs": [
    {
     "name": "stdout",
     "output_type": "stream",
     "text": [
      "21\n",
      "                             Restaurant name  \\\n",
      "0                  Delia My Bar Headquarters   \n",
      "1                              The G.T. Road   \n",
      "2                        My Bar Headquarters   \n",
      "3                                    Berco's   \n",
      "4                                     Sandoz   \n",
      "5                       Connaught Club House   \n",
      "6                        Unplugged Courtyard   \n",
      "7                         Kwality Restaurant   \n",
      "8                                  Oh My God   \n",
      "9   Desi Villagio - Village Theme Restro Bar   \n",
      "10                                   Tamasha   \n",
      "11              Yeti - The Himalayan Kitchen   \n",
      "12                   Ce La Vie Kitchen & Bar   \n",
      "13                              Caffe Tonino   \n",
      "14                                  Cafe MRP   \n",
      "15                                Farzi Cafe   \n",
      "16                               Dasaprakash   \n",
      "17                             Pind Balluchi   \n",
      "18                        The Imperial Spice   \n",
      "19                               38 Barracks   \n",
      "20                                   Nando's   \n",
      "\n",
      "                                              cuisine  \\\n",
      "0   ₹ 1,600 for 2 (approx) | North Indian, Chinese...   \n",
      "1               ₹ 2,000 for 2 (approx) | North Indian   \n",
      "2      ₹ 1,500 for 2 (approx) | North Indian, Chinese   \n",
      "3              ₹ 1,300 for 2 (approx) | Chinese, Thai   \n",
      "4   ₹ 1,400 for 2 (approx) | North Indian, Contine...   \n",
      "5   ₹ 2,100 for 2 (approx) | North Indian, Asian, ...   \n",
      "6   ₹ 2,500 for 2 (approx) | North Indian, Italian...   \n",
      "7   ₹ 2,000 for 2 (approx) | North Indian, Contine...   \n",
      "8   ₹ 1,100 for 2 (approx) | Continental, North In...   \n",
      "9               ₹ 1,200 for 2 (approx) | North Indian   \n",
      "10  ₹ 2,000 for 2 (approx) | Continental, Asian, I...   \n",
      "11         ₹ 1,500 for 2 (approx) | Tibetan, Nepalese   \n",
      "12  ₹ 1,800 for 2 (approx) | Continental, Asian, N...   \n",
      "13        ₹ 2,000 for 2 (approx) | Italian, Beverages   \n",
      "14  ₹ 1,500 for 2 (approx) | North Indian, Contine...   \n",
      "15  ₹ 2,000 for 2 (approx) | Modern Indian, Contin...   \n",
      "16  ₹ 800 for 2 (approx) | North Indian, South Ind...   \n",
      "17              ₹ 1,400 for 2 (approx) | North Indian   \n",
      "18  ₹ 3,000 for 2 (approx) | North Indian, Chinese...   \n",
      "19  ₹ 2,700 for 2 (approx) | North Indian, Chinese...   \n",
      "20  ₹ 1,800 for 2 (approx) | Portuguese, Mediterra...   \n",
      "\n",
      "                                             Location   Ratings  \\\n",
      "0                           Karol Bagh, Central Delhi  4.3232     \n",
      "1              M-Block,Connaught Place, Central Delhi  4.3232     \n",
      "2                      Connaught Place, Central Delhi  4.3232     \n",
      "3                      Connaught Place, Central Delhi  4.3232     \n",
      "4                      Connaught Place, Central Delhi  4.3232     \n",
      "5                              Janpath, Central Delhi  4.3232     \n",
      "6                      Connaught Place, Central Delhi  4.3232     \n",
      "7   Regal Cinema Complex,Connaught Place, Central ...  4.3232     \n",
      "8              F-Block,Connaught Place, Central Delhi  4.3232     \n",
      "9                      Connaught Place, Central Delhi  4.3232     \n",
      "10                     Connaught Place, Central Delhi  4.3232     \n",
      "11       The Colonnade,Connaught Place, Central Delhi  4.3232     \n",
      "12                     Connaught Place, Central Delhi  4.3232     \n",
      "13           PVR Plaza,Connaught Place, Central Delhi  4.3232     \n",
      "14                     Connaught Place, Central Delhi  4.3232     \n",
      "15                     Connaught Place, Central Delhi  4.3232     \n",
      "16                     Connaught Place, Central Delhi  4.3232     \n",
      "17  Regal Cinema Complex,Connaught Place, Central ...  4.3232     \n",
      "18             M-Block,Connaught Place, Central Delhi  4.3232     \n",
      "19             M-Block,Connaught Place, Central Delhi  4.3232     \n",
      "20             M-Block,Connaught Place, Central Delhi  4.3232     \n",
      "\n",
      "                                            ImagesUrl  \n",
      "0   https://im1.dineout.co.in/images/uploads/resta...  \n",
      "1   https://im1.dineout.co.in/images/uploads/resta...  \n",
      "2   https://im1.dineout.co.in/images/uploads/resta...  \n",
      "3   https://im1.dineout.co.in/images/uploads/resta...  \n",
      "4   https://im1.dineout.co.in/images/uploads/resta...  \n",
      "5   https://im1.dineout.co.in/images/uploads/resta...  \n",
      "6   https://im1.dineout.co.in/images/uploads/resta...  \n",
      "7   https://im1.dineout.co.in/images/uploads/resta...  \n",
      "8   https://im1.dineout.co.in/images/uploads/resta...  \n",
      "9   https://im1.dineout.co.in/images/uploads/resta...  \n",
      "10  https://im1.dineout.co.in/images/uploads/resta...  \n",
      "11  https://im1.dineout.co.in/images/uploads/resta...  \n",
      "12  https://im1.dineout.co.in/images/uploads/resta...  \n",
      "13  https://im1.dineout.co.in/images/uploads/resta...  \n",
      "14  https://im1.dineout.co.in/images/uploads/resta...  \n",
      "15  https://im1.dineout.co.in/images/uploads/resta...  \n",
      "16  https://im1.dineout.co.in/images/uploads/resta...  \n",
      "17  https://im1.dineout.co.in/images/uploads/resta...  \n",
      "18  https://im1.dineout.co.in/images/uploads/resta...  \n",
      "19  https://im1.dineout.co.in/images/uploads/resta...  \n",
      "20  https://im1.dineout.co.in/images/uploads/resta...  \n",
      "(21, 5)\n"
     ]
    }
   ],
   "source": [
    "import pandas as pd\n",
    "\n",
    "def detailsDineOut(url):\n",
    "    Page=requests.get(url)\n",
    "    soup=BeautifulSoup(Page.content)\n",
    "    titles=[]\n",
    "    location=[]\n",
    "    cuisine=[]\n",
    "    ratings=[]\n",
    "    imageurl=[]\n",
    "    for i in soup.find_all('a',class_=\"restnt-name ellipsis\"):\n",
    "        titles.append(i.text)\n",
    "    print(len(titles))\n",
    "    for i in soup.find_all('div',class_=\"restnt-loc ellipsis\"):\n",
    "        location.append(i.text) \n",
    "    #print(len(location))\n",
    "    for i in soup.find_all('span',class_=\"double-line-ellipsis\"):\n",
    "        cuisine.append(i.text)\n",
    "    #print(len(cuisine))\n",
    "    for i in soup.find_all('div',class_=\"restnt-rating-widget pull-right text-right\"):\n",
    "        ratings.append(i.text.replace(\"votes\", \" \"))\n",
    "    #print(len(ratings))\n",
    "    for i in soup.find_all('img',class_=\"no-img\"):\n",
    "        imageurl.append(i['data-src'])\n",
    "    #print(len(imageurl))\n",
    "    df=pd.DataFrame({'Restaurant name':titles,'cuisine':cuisine,'Location':location,'Ratings':ratings,'ImagesUrl':imageurl})\n",
    "    print(df)\n",
    "    print(df.shape)\n",
    "               \n",
    "Url=\"https://www.dineout.co.in/delhi-restaurants?loc=Noida\"\n",
    "detailsDineOut(Url)"
   ]
  },
  {
   "cell_type": "markdown",
   "id": "9bb0e97e",
   "metadata": {},
   "source": [
    "# Solution4\n",
    "    \n",
    "               \n"
   ]
  },
  {
   "cell_type": "markdown",
   "id": "bcb79c3a",
   "metadata": {},
   "source": [
    "Question -4 Write s python program to display list of respected former finance minister of India(i.e. Name , Term of office) from https://presidentofindia.nic.in/former-presidents.htm and make data frame."
   ]
  },
  {
   "cell_type": "markdown",
   "id": "ddcbc882",
   "metadata": {},
   "source": [
    "Solution: There is not any kind of list of respected former finance minister of India at this link https://presidentofindia.nic.in/former-presidents.htm"
   ]
  },
  {
   "cell_type": "code",
   "execution_count": null,
   "id": "3d971696",
   "metadata": {},
   "outputs": [],
   "source": []
  }
 ],
 "metadata": {
  "kernelspec": {
   "display_name": "Python 3 (ipykernel)",
   "language": "python",
   "name": "python3"
  },
  "language_info": {
   "codemirror_mode": {
    "name": "ipython",
    "version": 3
   },
   "file_extension": ".py",
   "mimetype": "text/x-python",
   "name": "python",
   "nbconvert_exporter": "python",
   "pygments_lexer": "ipython3",
   "version": "3.11.3"
  }
 },
 "nbformat": 4,
 "nbformat_minor": 5
}
