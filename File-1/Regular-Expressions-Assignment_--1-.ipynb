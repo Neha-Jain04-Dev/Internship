{
 "cells": [
  {
   "cell_type": "markdown",
   "id": "b664b213",
   "metadata": {},
   "source": [
    "# Assignment 1: Regular Expressions"
   ]
  },
  {
   "cell_type": "code",
   "execution_count": 5,
   "id": "f6afe945",
   "metadata": {},
   "outputs": [
    {
     "name": "stdout",
     "output_type": "stream",
     "text": [
      "Python:Exercises::PHP:exercises:\n"
     ]
    }
   ],
   "source": [
    "#Question1:Write a Python program to replace all occurrences of a space, comma, or dot with a colon.\n",
    "#Sample Text- 'Python Exercises, PHP exercises.'\n",
    "#Expected Output: Python:Exercises::PHP:exercises:\n",
    "\n",
    "\n",
    "import re\n",
    "\n",
    "sample_text=\"Python Exercises, PHP exercises.\"\n",
    "x_= re.sub(\"[\\s,.]\",\":\",sample_text)\n",
    "\n",
    "print(x_)"
   ]
  },
  {
   "cell_type": "code",
   "execution_count": 39,
   "id": "a6d9f728",
   "metadata": {},
   "outputs": [
    {
     "data": {
      "text/html": [
       "<div>\n",
       "<style scoped>\n",
       "    .dataframe tbody tr th:only-of-type {\n",
       "        vertical-align: middle;\n",
       "    }\n",
       "\n",
       "    .dataframe tbody tr th {\n",
       "        vertical-align: top;\n",
       "    }\n",
       "\n",
       "    .dataframe thead th {\n",
       "        text-align: right;\n",
       "    }\n",
       "</style>\n",
       "<table border=\"1\" class=\"dataframe\">\n",
       "  <thead>\n",
       "    <tr style=\"text-align: right;\">\n",
       "      <th></th>\n",
       "      <th>SUMMARY</th>\n",
       "    </tr>\n",
       "  </thead>\n",
       "  <tbody>\n",
       "    <tr>\n",
       "      <th>0</th>\n",
       "      <td>hello world</td>\n",
       "    </tr>\n",
       "    <tr>\n",
       "      <th>1</th>\n",
       "      <td>test</td>\n",
       "    </tr>\n",
       "    <tr>\n",
       "      <th>2</th>\n",
       "      <td>four five six</td>\n",
       "    </tr>\n",
       "  </tbody>\n",
       "</table>\n",
       "</div>"
      ],
      "text/plain": [
       "         SUMMARY\n",
       "0    hello world\n",
       "1           test\n",
       "2  four five six"
      ]
     },
     "execution_count": 39,
     "metadata": {},
     "output_type": "execute_result"
    }
   ],
   "source": [
    "#Question 2- Create a dataframe using the dictionary below and remove everything (commas (,), !, XXXX, ;, etc.) from the columns except words. \n",
    "#Dictionary- {'SUMMARY' : ['hello, world!', 'XXXXX test', '123four, five:; six...']} \n",
    "#Expected output- 0 hello world 1 test 2 four five six\n",
    "\n",
    "\n",
    "import pandas as pd\n",
    "import numpy as np\n",
    "\n",
    "dict_1={'SUMMARY' : ['hello, world!', 'XXXXX test', '123four, five:; (six)...']} \n",
    "dict_1\n",
    " \n",
    "df_1= pd.DataFrame(dict_1)\n",
    "df_1\n",
    "\n",
    "df_1[\"SUMMARY\"]=df_1[\"SUMMARY\"].str.replace('[0-9,(,)!XXXXX;:.]', \"\",regex=True)\n",
    "df_1\n",
    "\n"
   ]
  },
  {
   "cell_type": "code",
   "execution_count": 74,
   "id": "85b2ce44",
   "metadata": {},
   "outputs": [
    {
     "name": "stdout",
     "output_type": "stream",
     "text": [
      "Enter any String:A P J Abdul Kalam was an Indian aerospace scientist of India.\n",
      "['Abdul', 'Kalam', 'Indian', 'aerospace', 'scientist', 'India']\n"
     ]
    }
   ],
   "source": [
    "#Question 3- Create a function in python to find all words that are at least 4 characters long in a string. The use of the re.compile() method is mandatory.\n",
    "\n",
    "import re\n",
    "\n",
    "def findAtleast4Character(String):\n",
    "    regexPattern = re.compile(r'\\w{4,}')\n",
    "    result_= regexPattern.findall(string_)\n",
    "    print(result_)\n",
    "\n",
    "    \n",
    "string_= input(\"Enter any String:\")\n",
    "findAtleast4Character(string_)"
   ]
  },
  {
   "cell_type": "code",
   "execution_count": 73,
   "id": "603ad62f",
   "metadata": {},
   "outputs": [
    {
     "name": "stdout",
     "output_type": "stream",
     "text": [
      "Enter any String:A P J Abdul Kalam was an Indian aerospace scientist of India.\n",
      "['Abdul', 'Kalam', 'was', 'India']\n"
     ]
    }
   ],
   "source": [
    "#Question 4-Create a function in python to find all three, four, and five character words in a string. The use of the re.compile() method is mandatory.\n",
    "\n",
    "import re\n",
    "\n",
    "def findCharacter(String):\n",
    "    regexPattern = re.compile(r'\\b\\w{3,5}\\b')\n",
    "    result_= regexPattern.findall(String)\n",
    "    print(result_)\n",
    "\n",
    "\n",
    "    \n",
    "string_= input(\"Enter any String:\")\n",
    "findCharacter(string_)"
   ]
  },
  {
   "cell_type": "code",
   "execution_count": 95,
   "id": "9a05a694",
   "metadata": {},
   "outputs": [
    {
     "name": "stdout",
     "output_type": "stream",
     "text": [
      "example .com\n",
      "hr@fliprobo .com\n",
      "github .com\n",
      "Hello Data Science World\n",
      "Data Scientist\n"
     ]
    }
   ],
   "source": [
    "#Question 5- Create a function in Python to remove the parenthesis in a list of strings. The use of the re.compile() method is mandatory.\n",
    "#Sample Text: [\"example (.com)\", \"hr@fliprobo (.com)\", \"github (.com)\", \"Hello (Data Science World)\", \"Data (Scientist)\"]\n",
    "#Expected Output: example.com hr@fliprobo.com github.com Hello Data Science World Data Scientist\n",
    "\n",
    "\n",
    "import re\n",
    "\n",
    "def removalParantehesisFromStringList(string):\n",
    "    for msg in string:\n",
    "        pattern= re.compile(\"[()]\")\n",
    "        print(re.sub(pattern,\"\",msg))\n",
    "\n",
    "        \n",
    "\n",
    "Sample_Text=[\"example (.com)\", \"hr@fliprobo (.com)\", \"github (.com)\", \"Hello (Data Science World)\", \"Data (Scientist)\"]\n",
    "removalParantehesisFromStringList(Sample_Text)"
   ]
  },
  {
   "cell_type": "code",
   "execution_count": 9,
   "id": "3bb58acc",
   "metadata": {},
   "outputs": [
    {
     "name": "stdout",
     "output_type": "stream",
     "text": [
      " [\"example\", \"hr@fliprobo\", \"github\", \"Hello\", \"Data\"] \n"
     ]
    }
   ],
   "source": [
    "#Question 6- Write a python program to remove the parenthesis area from the text stored in the text file using Regular Expression.\n",
    "#Sample Text: [\"example (.com)\", \"hr@fliprobo (.com)\", \"github (.com)\", \"Hello (Data Science World)\", \"Data (Scientist)\"]\n",
    "#Expected Output: [\"example\", \"hr@fliprobo\", \"github\", \"Hello\", \"Data\"]\n",
    "#Note- Store given sample text in the text file and then to remove the parenthesis area from the text.\n",
    "\n",
    "import re\n",
    "\n",
    "with open(\"sample_text.txt\")as file:\n",
    "    for line in file:\n",
    "        urls=re.sub(r\"\\s\\([^)]*\\)\",\"\", line)\n",
    "        print(urls)"
   ]
  },
  {
   "cell_type": "code",
   "execution_count": 25,
   "id": "d9619e29",
   "metadata": {},
   "outputs": [
    {
     "name": "stdout",
     "output_type": "stream",
     "text": [
      "['Importance', 'Of', 'Regular', 'Expressions', 'In', 'Python']\n"
     ]
    }
   ],
   "source": [
    "#Question 7- Write a regular expression in Python to split a string into uppercase letters.\n",
    "#Sample text: “ImportanceOfRegularExpressionsInPython”\n",
    "#Expected Output: [‘Importance’, ‘Of’, ‘Regular’, ‘Expression’, ‘In’, ‘Python’]\n",
    "    \n",
    "Sample_text=\"ImportanceOfRegularExpressionsInPython\" \n",
    "result_=re.split(r\"(?=[A-Z])\",Sample_text)\n",
    "#print(result_)\n",
    "for i in result_:\n",
    "    if(len(i)==0):\n",
    "        result_.remove(i)\n",
    "    \n",
    "print(result_)"
   ]
  },
  {
   "cell_type": "code",
   "execution_count": 357,
   "id": "be8622b3",
   "metadata": {},
   "outputs": [
    {
     "name": "stdout",
     "output_type": "stream",
     "text": [
      "RegularExpression 1IsAn 2ImportantTopic 3InPython\n"
     ]
    }
   ],
   "source": [
    "#Question 8- Create a function in python to insert spaces between words starting with numbers.\n",
    "#Sample Text: “RegularExpression1IsAn2ImportantTopic3InPython\"\n",
    "#Expected Output: RegularExpression 1IsAn 2ImportantTopic 3InPython\n",
    "\n",
    "import regex as re\n",
    "    \n",
    "def insertSpacesInString(string):\n",
    "    pattern=r'(\\d)'\n",
    "    def insert_space(match):\n",
    "        return \" \"+match.group(1)\n",
    "   \n",
    "    match_1=re.sub(pattern, insert_space ,string)\n",
    "    print(match_1)\n",
    "        \n",
    "Sample_Text=\"RegularExpression1IsAn2ImportantTopic3InPython\" \n",
    "insertSpacesInString(Sample_Text)"
   ]
  },
  {
   "cell_type": "code",
   "execution_count": 358,
   "id": "b5400cf8",
   "metadata": {},
   "outputs": [
    {
     "name": "stdout",
     "output_type": "stream",
     "text": [
      "RegularExpression 1 IsAn 2 ImportantTopic 3 InPython\n"
     ]
    }
   ],
   "source": [
    "#Question 9- Create a function in python to insert spaces between words starting with capital letters or with numbers. \n",
    "#Sample Text: “RegularExpression1IsAn2ImportantTopic3InPython\" \n",
    "#Expected Output: RegularExpression 1 IsAn 2 ImportantTopic 3 InPython\n",
    "        \n",
    "import regex as re\n",
    "\n",
    "    \n",
    "def insertSpacesInString(string):\n",
    "    pattern=r'(\\d)'\n",
    "    def insert_space(match):\n",
    "        return \" \"+match.group(1)+\" \"\n",
    "   \n",
    "    match_1=re.sub(pattern, insert_space ,string)\n",
    "    print(match_1)\n",
    "        \n",
    "Sample_Text=\"RegularExpression1IsAn2ImportantTopic3InPython\" \n",
    "insertSpacesInString(Sample_Text)"
   ]
  },
  {
   "cell_type": "code",
   "execution_count": 84,
   "id": "cc4b18f6",
   "metadata": {},
   "outputs": [
    {
     "name": "stdout",
     "output_type": "stream",
     "text": [
      "Before adding the column: (158, 12)\n",
      "After Adding new column: (158, 13)\n"
     ]
    },
    {
     "data": {
      "text/html": [
       "<div>\n",
       "<style scoped>\n",
       "    .dataframe tbody tr th:only-of-type {\n",
       "        vertical-align: middle;\n",
       "    }\n",
       "\n",
       "    .dataframe tbody tr th {\n",
       "        vertical-align: top;\n",
       "    }\n",
       "\n",
       "    .dataframe thead th {\n",
       "        text-align: right;\n",
       "    }\n",
       "</style>\n",
       "<table border=\"1\" class=\"dataframe\">\n",
       "  <thead>\n",
       "    <tr style=\"text-align: right;\">\n",
       "      <th></th>\n",
       "      <th>Country</th>\n",
       "      <th>Region</th>\n",
       "      <th>Happiness Rank</th>\n",
       "      <th>Happiness Score</th>\n",
       "      <th>Standard Error</th>\n",
       "      <th>Economy (GDP per Capita)</th>\n",
       "      <th>Family</th>\n",
       "      <th>Health (Life Expectancy)</th>\n",
       "      <th>Freedom</th>\n",
       "      <th>Trust (Government Corruption)</th>\n",
       "      <th>Generosity</th>\n",
       "      <th>Dystopia Residual</th>\n",
       "      <th>First_five_letters</th>\n",
       "    </tr>\n",
       "  </thead>\n",
       "  <tbody>\n",
       "    <tr>\n",
       "      <th>0</th>\n",
       "      <td>Switzerland</td>\n",
       "      <td>Western Europe</td>\n",
       "      <td>1</td>\n",
       "      <td>7.587</td>\n",
       "      <td>0.03411</td>\n",
       "      <td>1.39651</td>\n",
       "      <td>1.34951</td>\n",
       "      <td>0.94143</td>\n",
       "      <td>0.66557</td>\n",
       "      <td>0.41978</td>\n",
       "      <td>0.29678</td>\n",
       "      <td>2.51738</td>\n",
       "      <td>Switze</td>\n",
       "    </tr>\n",
       "    <tr>\n",
       "      <th>1</th>\n",
       "      <td>Iceland</td>\n",
       "      <td>Western Europe</td>\n",
       "      <td>2</td>\n",
       "      <td>7.561</td>\n",
       "      <td>0.04884</td>\n",
       "      <td>1.30232</td>\n",
       "      <td>1.40223</td>\n",
       "      <td>0.94784</td>\n",
       "      <td>0.62877</td>\n",
       "      <td>0.14145</td>\n",
       "      <td>0.43630</td>\n",
       "      <td>2.70201</td>\n",
       "      <td>Icelan</td>\n",
       "    </tr>\n",
       "    <tr>\n",
       "      <th>2</th>\n",
       "      <td>Denmark</td>\n",
       "      <td>Western Europe</td>\n",
       "      <td>3</td>\n",
       "      <td>7.527</td>\n",
       "      <td>0.03328</td>\n",
       "      <td>1.32548</td>\n",
       "      <td>1.36058</td>\n",
       "      <td>0.87464</td>\n",
       "      <td>0.64938</td>\n",
       "      <td>0.48357</td>\n",
       "      <td>0.34139</td>\n",
       "      <td>2.49204</td>\n",
       "      <td>Denmar</td>\n",
       "    </tr>\n",
       "    <tr>\n",
       "      <th>3</th>\n",
       "      <td>Norway</td>\n",
       "      <td>Western Europe</td>\n",
       "      <td>4</td>\n",
       "      <td>7.522</td>\n",
       "      <td>0.03880</td>\n",
       "      <td>1.45900</td>\n",
       "      <td>1.33095</td>\n",
       "      <td>0.88521</td>\n",
       "      <td>0.66973</td>\n",
       "      <td>0.36503</td>\n",
       "      <td>0.34699</td>\n",
       "      <td>2.46531</td>\n",
       "      <td>Norway</td>\n",
       "    </tr>\n",
       "    <tr>\n",
       "      <th>4</th>\n",
       "      <td>Canada</td>\n",
       "      <td>North America</td>\n",
       "      <td>5</td>\n",
       "      <td>7.427</td>\n",
       "      <td>0.03553</td>\n",
       "      <td>1.32629</td>\n",
       "      <td>1.32261</td>\n",
       "      <td>0.90563</td>\n",
       "      <td>0.63297</td>\n",
       "      <td>0.32957</td>\n",
       "      <td>0.45811</td>\n",
       "      <td>2.45176</td>\n",
       "      <td>Canada</td>\n",
       "    </tr>\n",
       "    <tr>\n",
       "      <th>...</th>\n",
       "      <td>...</td>\n",
       "      <td>...</td>\n",
       "      <td>...</td>\n",
       "      <td>...</td>\n",
       "      <td>...</td>\n",
       "      <td>...</td>\n",
       "      <td>...</td>\n",
       "      <td>...</td>\n",
       "      <td>...</td>\n",
       "      <td>...</td>\n",
       "      <td>...</td>\n",
       "      <td>...</td>\n",
       "      <td>...</td>\n",
       "    </tr>\n",
       "    <tr>\n",
       "      <th>153</th>\n",
       "      <td>Rwanda</td>\n",
       "      <td>Sub-Saharan Africa</td>\n",
       "      <td>154</td>\n",
       "      <td>3.465</td>\n",
       "      <td>0.03464</td>\n",
       "      <td>0.22208</td>\n",
       "      <td>0.77370</td>\n",
       "      <td>0.42864</td>\n",
       "      <td>0.59201</td>\n",
       "      <td>0.55191</td>\n",
       "      <td>0.22628</td>\n",
       "      <td>0.67042</td>\n",
       "      <td>Rwanda</td>\n",
       "    </tr>\n",
       "    <tr>\n",
       "      <th>154</th>\n",
       "      <td>Benin</td>\n",
       "      <td>Sub-Saharan Africa</td>\n",
       "      <td>155</td>\n",
       "      <td>3.340</td>\n",
       "      <td>0.03656</td>\n",
       "      <td>0.28665</td>\n",
       "      <td>0.35386</td>\n",
       "      <td>0.31910</td>\n",
       "      <td>0.48450</td>\n",
       "      <td>0.08010</td>\n",
       "      <td>0.18260</td>\n",
       "      <td>1.63328</td>\n",
       "      <td>NaN</td>\n",
       "    </tr>\n",
       "    <tr>\n",
       "      <th>155</th>\n",
       "      <td>Syria</td>\n",
       "      <td>Middle East and Northern Africa</td>\n",
       "      <td>156</td>\n",
       "      <td>3.006</td>\n",
       "      <td>0.05015</td>\n",
       "      <td>0.66320</td>\n",
       "      <td>0.47489</td>\n",
       "      <td>0.72193</td>\n",
       "      <td>0.15684</td>\n",
       "      <td>0.18906</td>\n",
       "      <td>0.47179</td>\n",
       "      <td>0.32858</td>\n",
       "      <td>NaN</td>\n",
       "    </tr>\n",
       "    <tr>\n",
       "      <th>156</th>\n",
       "      <td>Burundi</td>\n",
       "      <td>Sub-Saharan Africa</td>\n",
       "      <td>157</td>\n",
       "      <td>2.905</td>\n",
       "      <td>0.08658</td>\n",
       "      <td>0.01530</td>\n",
       "      <td>0.41587</td>\n",
       "      <td>0.22396</td>\n",
       "      <td>0.11850</td>\n",
       "      <td>0.10062</td>\n",
       "      <td>0.19727</td>\n",
       "      <td>1.83302</td>\n",
       "      <td>Burund</td>\n",
       "    </tr>\n",
       "    <tr>\n",
       "      <th>157</th>\n",
       "      <td>Togo</td>\n",
       "      <td>Sub-Saharan Africa</td>\n",
       "      <td>158</td>\n",
       "      <td>2.839</td>\n",
       "      <td>0.06727</td>\n",
       "      <td>0.20868</td>\n",
       "      <td>0.13995</td>\n",
       "      <td>0.28443</td>\n",
       "      <td>0.36453</td>\n",
       "      <td>0.10731</td>\n",
       "      <td>0.16681</td>\n",
       "      <td>1.56726</td>\n",
       "      <td>NaN</td>\n",
       "    </tr>\n",
       "  </tbody>\n",
       "</table>\n",
       "<p>158 rows × 13 columns</p>\n",
       "</div>"
      ],
      "text/plain": [
       "         Country                           Region  Happiness Rank  \\\n",
       "0    Switzerland                   Western Europe               1   \n",
       "1        Iceland                   Western Europe               2   \n",
       "2        Denmark                   Western Europe               3   \n",
       "3         Norway                   Western Europe               4   \n",
       "4         Canada                    North America               5   \n",
       "..           ...                              ...             ...   \n",
       "153       Rwanda               Sub-Saharan Africa             154   \n",
       "154        Benin               Sub-Saharan Africa             155   \n",
       "155        Syria  Middle East and Northern Africa             156   \n",
       "156      Burundi               Sub-Saharan Africa             157   \n",
       "157         Togo               Sub-Saharan Africa             158   \n",
       "\n",
       "     Happiness Score  Standard Error  Economy (GDP per Capita)   Family  \\\n",
       "0              7.587         0.03411                   1.39651  1.34951   \n",
       "1              7.561         0.04884                   1.30232  1.40223   \n",
       "2              7.527         0.03328                   1.32548  1.36058   \n",
       "3              7.522         0.03880                   1.45900  1.33095   \n",
       "4              7.427         0.03553                   1.32629  1.32261   \n",
       "..               ...             ...                       ...      ...   \n",
       "153            3.465         0.03464                   0.22208  0.77370   \n",
       "154            3.340         0.03656                   0.28665  0.35386   \n",
       "155            3.006         0.05015                   0.66320  0.47489   \n",
       "156            2.905         0.08658                   0.01530  0.41587   \n",
       "157            2.839         0.06727                   0.20868  0.13995   \n",
       "\n",
       "     Health (Life Expectancy)  Freedom  Trust (Government Corruption)  \\\n",
       "0                     0.94143  0.66557                        0.41978   \n",
       "1                     0.94784  0.62877                        0.14145   \n",
       "2                     0.87464  0.64938                        0.48357   \n",
       "3                     0.88521  0.66973                        0.36503   \n",
       "4                     0.90563  0.63297                        0.32957   \n",
       "..                        ...      ...                            ...   \n",
       "153                   0.42864  0.59201                        0.55191   \n",
       "154                   0.31910  0.48450                        0.08010   \n",
       "155                   0.72193  0.15684                        0.18906   \n",
       "156                   0.22396  0.11850                        0.10062   \n",
       "157                   0.28443  0.36453                        0.10731   \n",
       "\n",
       "     Generosity  Dystopia Residual First_five_letters  \n",
       "0       0.29678            2.51738             Switze  \n",
       "1       0.43630            2.70201             Icelan  \n",
       "2       0.34139            2.49204             Denmar  \n",
       "3       0.34699            2.46531             Norway  \n",
       "4       0.45811            2.45176             Canada  \n",
       "..          ...                ...                ...  \n",
       "153     0.22628            0.67042             Rwanda  \n",
       "154     0.18260            1.63328                NaN  \n",
       "155     0.47179            0.32858                NaN  \n",
       "156     0.19727            1.83302             Burund  \n",
       "157     0.16681            1.56726                NaN  \n",
       "\n",
       "[158 rows x 13 columns]"
      ]
     },
     "execution_count": 84,
     "metadata": {},
     "output_type": "execute_result"
    }
   ],
   "source": [
    "#Question 10- Use the github link below to read the data and create a dataframe. After creating the dataframe extract the first 6 letters of each country and store in the dataframe under a new column called first_five_letters.\n",
    "#Github Link- https://raw.githubusercontent.com/dsrscientist/DSData/master/happiness_score_dataset.csv\n",
    "\n",
    "\n",
    "import pandas as pd\n",
    "import regex as re\n",
    "\n",
    "ds=pd.read_csv(\"data1.csv\")\n",
    "df=pd.DataFrame(data=ds)\n",
    "print(\"Before adding the column:\", df.shape)\n",
    "#df[\"Country\"].head()\n",
    "df1_new=df[\"Country\"].str.extract(r\"(\\s*\\w{6})\",flags=re.I)\n",
    "df[\"First_five_letters\"]=df1_new\n",
    "print(\"After Adding new column:\", df.shape)\n",
    "df\n"
   ]
  },
  {
   "cell_type": "code",
   "execution_count": 92,
   "id": "ece591e8",
   "metadata": {},
   "outputs": [
    {
     "name": "stdout",
     "output_type": "stream",
     "text": [
      "Enter any string:Neha_Jain123\n",
      "<regex.Match object; span=(0, 12), match='Neha_Jain123'>\n"
     ]
    }
   ],
   "source": [
    "#Question 11-Write a Python program to match a string that contains only upper and lowercase letters, numbers, and underscores.\n",
    "\n",
    "string= input(\"Enter string that contains a-z,A-Z,0-9,_:\")\n",
    "updated_string=re.match(r'^[\\w]+$',string)\n",
    "print(\"match found:\", updated_string)\n"
   ]
  },
  {
   "cell_type": "code",
   "execution_count": 359,
   "id": "73c65231",
   "metadata": {},
   "outputs": [
    {
     "name": "stdout",
     "output_type": "stream",
     "text": [
      "Enter any string that starts with a specific number:1hello\n",
      "match found: <regex.Match object; span=(0, 1), match='1'>\n"
     ]
    }
   ],
   "source": [
    "#Question 12-Write a Python program where a string will start with a specific number.\n",
    "\n",
    "string1= input(\"Enter any string that starts with a specific number:\")\n",
    "result= re.search('^\\d+',string1)\n",
    "\n",
    "print(\"match found:\", result)"
   ]
  },
  {
   "cell_type": "code",
   "execution_count": 360,
   "id": "46f6e2ab",
   "metadata": {},
   "outputs": [
    {
     "name": "stdout",
     "output_type": "stream",
     "text": [
      "Enter a IP address:0100.01.20.168\n",
      "Valid IP Address: 100.1.20.168\n"
     ]
    }
   ],
   "source": [
    "#Question 13- Write a Python program to remove leading zeros from an IP address\n",
    "\n",
    "IP_Address= input(\"Enter a IP address:\")\n",
    "\n",
    "import re\n",
    "\n",
    "pattern=\"(^|\\.)0+\"\n",
    "def remove_zero(match):\n",
    "    return match.group(1)\n",
    "\n",
    "result_=re.sub(pattern, remove_zero ,IP_Address)\n",
    "print(\"Valid IP Address:\" , result_)"
   ]
  },
  {
   "cell_type": "code",
   "execution_count": 144,
   "id": "66cb4aba",
   "metadata": {},
   "outputs": [
    {
     "name": "stdout",
     "output_type": "stream",
     "text": [
      "['August 15th 1947']\n"
     ]
    }
   ],
   "source": [
    "#Question 14- Write a regular expression in python to match a date string in the form of Month name followed by day number and year stored in a text file. \n",
    "#Sample text : ' On August 15th 1947 that India was declared independent from British colonialism, and the reins of control were handed over to the leaders of the Country’. \n",
    "#Expected Output- August 15th 1947 \n",
    "#Note- Store given sample text in the text file and then extract the date string asked format.\n",
    "\n",
    "\n",
    "import re\n",
    "\n",
    "with open(\"data2.txt\")as file:\n",
    "    for line in file:\n",
    "        pattern=r'(?:(?:January|February|March|April|May|June|July|August|September|October|November|December)\\s+\\d{1,2}(?:th|st|rd|nd)??\\s+\\d{4})'\n",
    "        date=re.findall(pattern, line)\n",
    "        print(date)"
   ]
  },
  {
   "cell_type": "code",
   "execution_count": 158,
   "id": "08b16307",
   "metadata": {},
   "outputs": [
    {
     "name": "stdout",
     "output_type": "stream",
     "text": [
      "fox\n",
      "dog\n"
     ]
    }
   ],
   "source": [
    "#Question 15:Write a Python program to search some literals strings in a string. \n",
    "#Sample text : 'The quick brown fox jumps over the lazy dog.'\n",
    "#Searched words : 'fox', 'dog', 'horse'\n",
    "\n",
    "Sample_text='The quick brown fox jumps over the lazy dog.'\n",
    "pattern=re.compile(\"fox|dog|horse\")\n",
    "for match in pattern.finditer(Sample_text):\n",
    "    print(match.group())\n",
    "\n"
   ]
  },
  {
   "cell_type": "code",
   "execution_count": 157,
   "id": "8507af69",
   "metadata": {},
   "outputs": [
    {
     "name": "stdout",
     "output_type": "stream",
     "text": [
      "Match Object: <re.Match object; span=(16, 19), match='fox'>\n"
     ]
    }
   ],
   "source": [
    "#Question 16- Write a Python program to search a literals string in a string and also find the location within the original string where the pattern occurs\n",
    "#Sample text : 'The quick brown fox jumps over the lazy dog.'\n",
    "#Searched words : 'fox'\n",
    "Sample_text='The quick brown fox jumps over the lazy dog.'\n",
    "pattern=re.compile(\"fox\")\n",
    "for match in pattern.finditer(Sample_text):\n",
    "        print(\"Match Object:\",match)\n",
    "   "
   ]
  },
  {
   "cell_type": "code",
   "execution_count": 167,
   "id": "023b565c",
   "metadata": {},
   "outputs": [
    {
     "name": "stdout",
     "output_type": "stream",
     "text": [
      "exercises\n",
      "exercises\n",
      "exercises\n"
     ]
    }
   ],
   "source": [
    "#Question 17- Write a Python program to find the substrings within a string.\n",
    "#Sample text : 'Python exercises, PHP exercises, C# exercises'\n",
    "#Pattern : 'exercises'.\n",
    "Sample_text='Python exercises, PHP exercises, C# exercises'\n",
    "pattern=re.compile(\"exercises\")\n",
    "result_=pattern.finditer(Sample_text)\n",
    "for match in result_:\n",
    "        print(match.group())\n"
   ]
  },
  {
   "cell_type": "code",
   "execution_count": 171,
   "id": "cc4a5c68",
   "metadata": {},
   "outputs": [
    {
     "name": "stdout",
     "output_type": "stream",
     "text": [
      "<re.Match object; span=(7, 16), match='exercises'>\n",
      "<re.Match object; span=(22, 31), match='exercises'>\n",
      "<re.Match object; span=(36, 45), match='exercises'>\n"
     ]
    }
   ],
   "source": [
    "#Question 18- Write a Python program to find the occurrence and position of the substrings within a string.\n",
    "Sample_text='Python exercises, PHP exercises, C# exercises'\n",
    "pattern=re.compile(\"exercises\")\n",
    "result_=pattern.finditer(Sample_text)\n",
    "for match in result_:\n",
    "        print(match)"
   ]
  },
  {
   "cell_type": "code",
   "execution_count": 274,
   "id": "793543a4",
   "metadata": {},
   "outputs": [
    {
     "name": "stdout",
     "output_type": "stream",
     "text": [
      "date in yyyy-mm-dd format: 2024-02-01\n",
      "01-02-2024\n"
     ]
    }
   ],
   "source": [
    "#Question 19- Write a Python program to convert a date of yyyy-mm-dd format to dd-mm-yyyy format.\n",
    "\n",
    "Sample_date=\"2024-02-01\"\n",
    "print(\"date in yyyy-mm-dd format:\", Sample_date)\n",
    "pattern=re.compile(r\"(\\d{4})-(\\d{2})-(\\d{2})\")\n",
    "result_=pattern.finditer(Sample_date)\n",
    "#x=[]\n",
    "#for match in result_:\n",
    "    #x=match.groups()\n",
    "    #print(\"date in dd-mm-yyyy format:\", )\n",
    "    #for i in reversed(x):\n",
    "        #print(i, end=\"-\")\n",
    "        \n",
    "if result_:\n",
    "    x,y,z=match.groups()\n",
    "    formatted_date=\"{}-{}-{}\".format(z,y,x)\n",
    "    print(formatted_date);\n",
    "else:\n",
    "    print(\"None\")\n",
    "     \n",
    "\n",
    "        \n"
   ]
  },
  {
   "cell_type": "code",
   "execution_count": 275,
   "id": "083cd73f",
   "metadata": {},
   "outputs": [
    {
     "name": "stdout",
     "output_type": "stream",
     "text": [
      "['01.12', '145.8', '3.01', '27.25', '0.25']\n"
     ]
    }
   ],
   "source": [
    "#Question 20- Create a function in python to find all decimal numbers with a precision of 1 or 2 in a string. The use of the re.compile() method is mandatory.\n",
    "#Sample Text: \"01.12 0132.123 2.31875 145.8 3.01 27.25 0.25\"\n",
    "#Expected Output: ['01.12', '145.8', '3.01', '27.25', '0.25']\n",
    "\n",
    "def findDecimalNoWithPrec(Sample_text):\n",
    "    pattern=re.compile(r'\\b\\d+\\.\\d{1,2}\\b')\n",
    "    result_=pattern.findall(Sample_text)\n",
    "    print(result_)\n",
    "\n",
    "\n",
    "Sample_Text=\"01.12 0132.123 2.31875 145.8 3.01 27.25 0.25\"\n",
    "findDecimalNoWithPrec(Sample_Text)"
   ]
  },
  {
   "cell_type": "code",
   "execution_count": 216,
   "id": "55b6d6b9",
   "metadata": {},
   "outputs": [
    {
     "name": "stdout",
     "output_type": "stream",
     "text": [
      "Number: 17 and Position of 17 is : 45\n",
      "Number: 1993 and Position of 1993 is : 53\n",
      "Number: 112 and Position of 112 is : 70\n",
      "Number: 26 and Position of 26 is : 108\n",
      "Number: 51 and Position of 51 is : 142\n"
     ]
    }
   ],
   "source": [
    "#Question 21- Write a Python program to separate and print the numbers and their position of a given string.\n",
    "\n",
    "String='''Emma is a basketball player who was born on 17 june 1993.\n",
    "She played 112 matches with a scoring average of 26 points per game. Her weight is 51 kg.'''\n",
    "pattern=re.compile(r\"\\d+\")\n",
    "result_=pattern.finditer(String)\n",
    "for match in result_:\n",
    "        number=match.group()\n",
    "        number_position=match.start()+1\n",
    "        print(\"Number:\",number,\"and\",\"Position of\",number,\"is :\",number_position)"
   ]
  },
  {
   "cell_type": "code",
   "execution_count": 362,
   "id": "e5457ff4",
   "metadata": {},
   "outputs": [
    {
     "name": "stdout",
     "output_type": "stream",
     "text": [
      "950\n"
     ]
    }
   ],
   "source": [
    "#Question 22- Write a regular expression in python program to extract maximum/largest numeric value from a string.\n",
    "#Sample Text:  'My marks in each semester are: 947, 896, 926, 524, 734, 950, 642'\n",
    "#Expected Output: 950\n",
    "\n",
    "\n",
    "Sample_Text=\"My marks in each semester are: 947, 896, 926, 524, 734, 950, 642\"\n",
    "pattern=re.compile(r\"\\d+\")\n",
    "result_=pattern.findall(Sample_Text)\n",
    "#for i in result_:\n",
    "    #result_=int(i)\n",
    "\n",
    "result_= [int(i) for i in result_]\n",
    "\n",
    "maximum= max(result_)\n",
    "\n",
    "print(maximum)\n"
   ]
  },
  {
   "cell_type": "code",
   "execution_count": 363,
   "id": "592da95f",
   "metadata": {},
   "outputs": [
    {
     "name": "stdout",
     "output_type": "stream",
     "text": [
      " Regular Expression Is An Important Topic In Python\n"
     ]
    }
   ],
   "source": [
    "#Question 23- Create a function in python to insert spaces between words starting with capital letters.\n",
    "#Sample Text: “RegularExpressionIsAnImportantTopicInPython\"\n",
    "#Expected Output: Regular Expression Is An Important Topic In Python\n",
    "\n",
    "import regex as re\n",
    "    \n",
    "def insertSpacesInString(string):\n",
    "    pattern=r'([A-Z])'\n",
    "    def insert_space(match):\n",
    "        return \" \"+match.group(1)\n",
    "   \n",
    "    match_1=re.sub(pattern, insert_space ,string)\n",
    "    print(match_1)\n",
    "        \n",
    "Sample_Text=\"RegularExpressionIsAnImportantTopicInPython\" \n",
    "insertSpacesInString(Sample_Text)"
   ]
  },
  {
   "cell_type": "code",
   "execution_count": 364,
   "id": "f3701807",
   "metadata": {},
   "outputs": [
    {
     "name": "stdout",
     "output_type": "stream",
     "text": [
      "['Regular', 'Expression', 'Important', 'Topic', 'Python']\n"
     ]
    }
   ],
   "source": [
    "#Question 24- Python regex to find sequences of one upper case letter followed by lower case letters\n",
    "\n",
    "import re\n",
    "\n",
    "Sample_Text= \"Regular Expression is an Important Topic in Python\"\n",
    "pattern = r\"\\b[A-Z][a-z]*\\b\"\n",
    "match=re.findall(pattern,Sample_Text)\n",
    "print(match)\n"
   ]
  },
  {
   "cell_type": "code",
   "execution_count": 365,
   "id": "caa5fc80",
   "metadata": {},
   "outputs": [
    {
     "name": "stdout",
     "output_type": "stream",
     "text": [
      "Hello hello world\n"
     ]
    }
   ],
   "source": [
    "#Question 25- Write a Python program to remove continuous duplicate words from Sentence using Regular Expression.\n",
    "#Sample Text: \"Hello hello world world\"\n",
    "#Expected Output: Hello hello world\n",
    "Sample_Text=\"Hello hello world world\"\n",
    "pattern=re.compile(r'\\b(\\w+)(?:\\s+\\1)+\\b') \n",
    "result_=re.sub(pattern,lambda match:match.group(1),Sample_Text)\n",
    "print(result_)\n"
   ]
  },
  {
   "cell_type": "code",
   "execution_count": 367,
   "id": "945be3de",
   "metadata": {},
   "outputs": [
    {
     "name": "stdout",
     "output_type": "stream",
     "text": [
      "Enter any string ending with alphanumeric character:neha123\n",
      "match: <re.Match object; span=(6, 7), match='3'>\n"
     ]
    }
   ],
   "source": [
    "#Question 26-  Write a python program using RegEx to accept string ending with alphanumeric character.\n",
    "String=input(\"Enter any string ending with alphanumeric character:\")\n",
    "pattern=r'\\w$'\n",
    "match_=re.search(pattern,String)\n",
    "print(\"match:\",match_)\n"
   ]
  },
  {
   "cell_type": "code",
   "execution_count": 368,
   "id": "b3524147",
   "metadata": {},
   "outputs": [
    {
     "name": "stdout",
     "output_type": "stream",
     "text": [
      "['#Doltiwal', '#xyzabc', '#Demonetization']\n"
     ]
    }
   ],
   "source": [
    "#Question 27-Write a python program using RegEx to extract the hashtags.\n",
    "#Sample Text:  \"\"\"RT @kapil_kausik: #Doltiwal I mean #xyzabc is \"hurt\" by #Demonetization as the same has rendered USELESS <ed><U+00A0><U+00BD><ed><U+00B1><U+0089> \"acquired funds\" No wo\"\"\"\n",
    "#Expected Output: ['#Doltiwal', '#xyzabc', '#Demonetization']\n",
    "\n",
    "Sample_Text='''RT @kapil_kausik: #Doltiwal I mean #xyzabc is \"hurt\" by #Demonetization as the same has rendered USELESS <ed><U+00A0><U+00BD><ed><U+00B1><U+0089> \"acquired funds\" No wo'''\n",
    "result_=re.findall(r\"#\\S+\",Sample_Text)\n",
    "print(result_)\n"
   ]
  },
  {
   "cell_type": "code",
   "execution_count": 369,
   "id": "620049ab",
   "metadata": {},
   "outputs": [
    {
     "name": "stdout",
     "output_type": "stream",
     "text": [
      "@Jags123456 Bharat band on 28??<ed><ed>Those who  are protesting #demonetization  are all different party leaders\n"
     ]
    }
   ],
   "source": [
    "#Question 28- Write a python program using RegEx to remove <U+..> like symbols\n",
    "#Check the below sample text, there are strange symbols something of the sort <U+..> all over the place. You need to come up with a general Regex expression that will cover all such symbols.\n",
    "#Sample Text: \"@Jags123456 Bharat band on 28??<ed><U+00A0><U+00BD><ed><U+00B8><U+0082>Those who  are protesting #demonetization  are all different party leaders\"\n",
    "#Expected Output: @Jags123456 Bharat band on 28??<ed><ed>Those who  are protesting #demonetization  are all different party leaders\n",
    "Sample_Text=\"@Jags123456 Bharat band on 28??<ed><U+00A0><U+00BD><ed><U+00B8><U+0082>Those who  are protesting #demonetization  are all different party leaders\"\n",
    "pattern=r\"<U\\+\\S{4}>\"\n",
    "result_=re.sub(pattern,\"\",Sample_Text)\n",
    "print(result_)"
   ]
  },
  {
   "cell_type": "code",
   "execution_count": 370,
   "id": "6129606a",
   "metadata": {},
   "outputs": [
    {
     "name": "stdout",
     "output_type": "stream",
     "text": [
      "['12-09-1992', '15-12-1999']\n"
     ]
    }
   ],
   "source": [
    "#Question 29- Write a python program to extract dates from the text stored in the text file.\n",
    "#Sample Text: Ron was born on 12-09-1992 and he was admitted to school 15-12-1999.\n",
    "#Note- Store this sample text in the file and then extract dates.\n",
    "import re\n",
    "\n",
    "with open(\"data3.txt\")as file:\n",
    "    for line in file:\n",
    "        pattern=r\"(\\d{2}+-\\d{2}+-\\d{4})\"\n",
    "        dates=re.findall(pattern, line)\n",
    "        print(dates)\n"
   ]
  },
  {
   "cell_type": "code",
   "execution_count": 330,
   "id": "e905b822",
   "metadata": {},
   "outputs": [
    {
     "name": "stdout",
     "output_type": "stream",
     "text": [
      "following example creates ArrayList a capacity elements. 4 elements added ArrayList ArrayList trimmed accordingly.\n"
     ]
    }
   ],
   "source": [
    "\n",
    "#Question 30- Create a function in python to remove all words from a string of length between 2 and 4.\n",
    "#The use of the re.compile() method is mandatory.\n",
    "#Sample Text: \"The following example creates an ArrayList with a capacity of 50 elements. 4 elements are then added to the ArrayList and the ArrayList is trimmed accordingly.\"\n",
    "#Expected Output:  following example creates ArrayList a capacity elements. 4 elements added ArrayList ArrayList trimmed accordingly.\n",
    "def removeWords(string):\n",
    "    pattern=re.compile(r\"\\b\\w{2,4}\\b\\s\")\n",
    "    result_=re.sub(pattern,\"\",string)\n",
    "    print(result_)\n",
    "\n",
    "Sample_Text=\"The following example creates an ArrayList with a capacity of 50 elements. 4 elements are then added to the ArrayList and the ArrayList is trimmed accordingly.\"\n",
    "removeWords(Sample_Text)\n"
   ]
  },
  {
   "cell_type": "code",
   "execution_count": null,
   "id": "d0da0f64",
   "metadata": {},
   "outputs": [],
   "source": []
  }
 ],
 "metadata": {
  "kernelspec": {
   "display_name": "Python 3 (ipykernel)",
   "language": "python",
   "name": "python3"
  },
  "language_info": {
   "codemirror_mode": {
    "name": "ipython",
    "version": 3
   },
   "file_extension": ".py",
   "mimetype": "text/x-python",
   "name": "python",
   "nbconvert_exporter": "python",
   "pygments_lexer": "ipython3",
   "version": "3.11.3"
  }
 },
 "nbformat": 4,
 "nbformat_minor": 5
}
